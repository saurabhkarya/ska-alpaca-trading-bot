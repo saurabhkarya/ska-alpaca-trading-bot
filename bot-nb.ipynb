{
 "cells": [
  {
   "cell_type": "code",
   "execution_count": 13,
   "metadata": {},
   "outputs": [],
   "source": [
    "# Import required packages and files\n",
    "import alpaca_trade_api as tradeapi\n",
    "import alpaca_keys\n"
   ]
  },
  {
   "cell_type": "code",
   "execution_count": 19,
   "metadata": {},
   "outputs": [
    {
     "name": "stdout",
     "output_type": "stream",
     "text": [
      "<alpaca_trade_api.rest.REST object at 0x13204dd50>\n"
     ]
    }
   ],
   "source": [
    "# Connect to API\n",
    "alpaca_endpoint = 'https://paper-api.alpaca.markets'\n",
    "alpaca = tradeapi.REST(alpaca_keys.api_key,\n",
    "                       alpaca_keys.api_secret, alpaca_endpoint)"
   ]
  },
  {
   "cell_type": "code",
   "execution_count": null,
   "metadata": {},
   "outputs": [],
   "source": [
    "# Create order and submit to API\n",
    "order = alpaca.submit_order(\n",
    "    symbol='BTCUSD',\n",
    "    qty=1,\n",
    "    type='limit',\n",
    "    side='buy',\n",
    "    limit_price=57000,\n",
    "    time_in_force='day')\n",
    "\n",
    "account = alpaca.get_account()\n",
    "print(account.status)"
   ]
  },
  {
   "cell_type": "code",
   "execution_count": null,
   "metadata": {},
   "outputs": [],
   "source": [
    "# Create the strat as a class and call it for the order\n",
    "class Martingale(object):\n",
    "    def __init__(self):\n",
    "        self.key = alpaca_keys.api_key\n",
    "        self.secret = alpaca_keys.api_secret\n",
    "        self.alpaca_endpoint = 'https://paper-api.alpaca.markets'\n",
    "        self.api = tradeapi.REST(self.key, self.secret, self.alpaca_endpoint)\n",
    "        self.symbol = 'BTCUSD'\n",
    "        self.current_order = None\n",
    "        self.last_price = 1\n",
    "\n",
    "        try:\n",
    "            self.position = int(self.api.get_position(self.symbol).qty)\n",
    "        except:\n",
    "            self.position = 0\n",
    "\n",
    "    def submit_order(self, target):\n",
    "        if self.current_order is not None:\n",
    "            self.api.cancel_order(self.current_order.id)\n",
    "\n",
    "        delta = target - self.position\n",
    "        print(delta, target, self.position)\n",
    "        if delta == 0:\n",
    "            return\n",
    "        print(\"Processing the order for {} shares\".format(target))\n",
    "\n",
    "        if delta > 0:\n",
    "            buy_quantity = delta\n",
    "            if self.position < 0:\n",
    "                buy_quantity = min(abs(self.position), buy_quantity)\n",
    "                print('Buying {} shares'.format(buy_quantity))\n",
    "                self.current_order = self.api.submit_order(\n",
    "                    self.symbol, buy_quantity, 'buy', 'limit', 'day', self.last_price)\n",
    "\n",
    "        elif delta < 0:\n",
    "            sell_quantity = abs(delta)\n",
    "            if self.position > 0:\n",
    "                sell_quantity = min(abs(self.position), sell_quantity)\n",
    "                print('Selling {} shares'.format(sell_quantity))\n",
    "                self.current_order = self.api.submit_order(\n",
    "                    self.symbol, sell_quantity, 'sell', 'limit', 'day', self.last_price)\n",
    "\n",
    "\n",
    "if __name__ == '__main__':\n",
    "    t = Martingale()\n",
    "    t.submit_order(1)\n",
    "\n",
    "# Need to add the information into a database? hmm"
   ]
  }
 ],
 "metadata": {
  "kernelspec": {
   "display_name": "ska-alpaca-bot",
   "language": "python",
   "name": "ska-alpaca-bot"
  },
  "language_info": {
   "codemirror_mode": {
    "name": "ipython",
    "version": 3
   },
   "file_extension": ".py",
   "mimetype": "text/x-python",
   "name": "python",
   "nbconvert_exporter": "python",
   "pygments_lexer": "ipython3",
   "version": "3.7.8"
  },
  "orig_nbformat": 4
 },
 "nbformat": 4,
 "nbformat_minor": 2
}
